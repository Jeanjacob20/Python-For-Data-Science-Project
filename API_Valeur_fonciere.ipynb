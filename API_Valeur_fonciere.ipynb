{
 "cells": [
  {
   "cell_type": "code",
   "execution_count": 8,
   "metadata": {},
   "outputs": [
    {
     "name": "stdout",
     "output_type": "stream",
     "text": [
      "Erreur HTTP : 500 Server Error: Internal Server Error for url: https://api.cquest.org/dvf?code_commune=29168\n",
      "Aucune donnée DVF disponible pour la commune.\n",
      "Structure de la réponse API : {'title': '500 Internal Server Error'}\n",
      "{'title': '500 Internal Server Error'}\n"
     ]
    }
   ],
   "source": [
    "import pandas as pd\n",
    "import requests\n",
    "import geopandas as gpd\n",
    "\n",
    "# Requête à l'API\n",
    "try:\n",
    "    response = requests.get(\"http://api.cquest.org/dvf?code_commune=29168\")\n",
    "    response.raise_for_status()  # Vérifie les erreurs HTTP\n",
    "    data_immo = response.json()\n",
    "    \n",
    "    # Vérification de la clé \"resultats\"\n",
    "    if not data_immo:\n",
    "        print(\"La réponse de l'API est vide.\")\n",
    "        ventes = pd.DataFrame()\n",
    "    elif \"resultats\" in data_immo:\n",
    "        ventes = pd.json_normalize(data_immo[\"resultats\"])\n",
    "        print(\"Données extraites avec succès !\")\n",
    "    else:\n",
    "        print(\"La clé 'resultats' est absente dans la réponse API.\")\n",
    "        ventes = pd.DataFrame()\n",
    "except requests.exceptions.HTTPError as http_err:\n",
    "    print(f\"Erreur HTTP : {http_err}\")\n",
    "    ventes = pd.DataFrame()\n",
    "except requests.exceptions.RequestException as req_err:\n",
    "    print(f\"Erreur lors de la requête : {req_err}\")\n",
    "    ventes = pd.DataFrame()\n",
    "\n",
    "# Vérifiez si le DataFrame n'est pas vide avant de continuer\n",
    "if not ventes.empty:\n",
    "    # Suppression des lignes sans coordonnées\n",
    "    ventes = ventes.dropna(subset=[\"lat\", \"lon\"])\n",
    "    # Conversion en GeoDataFrame\n",
    "    ventes = gpd.GeoDataFrame(ventes, geometry=gpd.points_from_xy(ventes.lon, ventes.lat))\n",
    "    print(ventes.head())\n",
    "else:\n",
    "    print(\"Aucune donnée DVF disponible pour la commune.\")\n",
    "\n",
    "\n",
    "if \"resultats\" not in data_immo:\n",
    "    print(\"Structure de la réponse API :\", data_immo)\n",
    "\n",
    "\n"
   ]
  }
 ],
 "metadata": {
  "kernelspec": {
   "display_name": "base",
   "language": "python",
   "name": "python3"
  },
  "language_info": {
   "codemirror_mode": {
    "name": "ipython",
    "version": 3
   },
   "file_extension": ".py",
   "mimetype": "text/x-python",
   "name": "python",
   "nbconvert_exporter": "python",
   "pygments_lexer": "ipython3",
   "version": "3.12.6"
  }
 },
 "nbformat": 4,
 "nbformat_minor": 2
}
