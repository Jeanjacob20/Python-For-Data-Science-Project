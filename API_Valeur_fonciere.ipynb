{
 "cells": [
  {
   "cell_type": "code",
   "execution_count": null,
   "metadata": {},
   "outputs": [],
   "source": [
    "import pandas as pd\n",
    "import requests\n",
    "\n",
    "# URL pour les données des communes de l'INSEE\n",
    "url = \"https://www.insee.fr/fr/statistiques/fichier/6800675/v_commune_2023.csv\"\n",
    "\n",
    "# Charger le fichier CSV contenant la liste des communes\n",
    "df = pd.read_csv(url, delimiter=\";\")  # Le séparateur est probablement ';' pour les fichiers français\n",
    "print(\"Fichier chargé avec succès !\")\n",
    "print(df.head())\n",
    "\n",
    "# URL de base pour l'API Geo-DVF\n",
    "geodvf_api_url = \"https://files.data.gouv.fr/geo-dvf/latest/\"\n",
    "\n",
    "# Fonction pour appeler l'API Geo-DVF et obtenir les données de prix pour une commune\n",
    "def get_price_data(commune_code):\n",
    "    request_url = f\"{geodvf_api_url}?code_commune={commune_code}&page=1&page_size=10\"\n",
    "    response = requests.get(request_url)\n",
    "    if response.status_code == 200:\n",
    "        json_data = response.json()\n",
    "        if json_data and 'data' in json_data and len(json_data['data']) > 0:\n",
    "            price_data = pd.DataFrame(json_data['data'])\n",
    "            return price_data\n",
    "    return None\n",
    "\n",
    "# Liste pour stocker les DataFrames individuels\n",
    "all_price_data = []\n",
    "\n",
    "# Boucle pour récupérer les données pour chaque commune\n",
    "for index, row in df.iterrows():\n",
    "    commune_code = row['COM']  # Remplacez par la colonne contenant le code INSEE si différent\n",
    "    price_data = get_price_data(commune_code)\n",
    "    if price_data is not None:\n",
    "        all_price_data.append(price_data)\n",
    "\n",
    "# Combiner tous les DataFrames en un seul\n",
    "if all_price_data:\n",
    "    combined_price_data = pd.concat(all_price_data, ignore_index=True)\n",
    "    print(\"Données combinées des prix :\")\n",
    "    print(combined_price_data.head())\n",
    "    # Enregistrer dans un fichier CSV\n",
    "    combined_price_data.to_csv(\"price_data.csv\", index=False)\n",
    "    print(\"Données sauvegardées dans 'price_data.csv'\")\n",
    "else:\n",
    "    print(\"Aucune donnée valide trouvée pour les communes.\")\n"
   ]
  }
 ],
 "metadata": {
  "language_info": {
   "name": "python"
  }
 },
 "nbformat": 4,
 "nbformat_minor": 2
}
