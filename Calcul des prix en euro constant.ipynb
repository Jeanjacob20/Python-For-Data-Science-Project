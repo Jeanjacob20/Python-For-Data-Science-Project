{
 "cells": [
  {
   "cell_type": "code",
   "execution_count": 18,
   "metadata": {},
   "outputs": [
    {
     "name": "stdout",
     "output_type": "stream",
     "text": [
      "Période    datetime64[ns]\n",
      "Index             float64\n",
      "dtype: object\n",
      "       Période   Index  taux_conversion_euro_2015\n",
      "0   2024-11-01  119.72                     1.1972\n",
      "1   2024-10-01  119.89                     1.1989\n",
      "2   2024-09-01  119.56                     1.1956\n",
      "3   2024-08-01  121.06                     1.2106\n",
      "4   2024-07-01  120.42                     1.2042\n",
      "..         ...     ...                        ...\n",
      "414 1990-05-01   67.19                     0.6719\n",
      "415 1990-04-01   67.09                     0.6709\n",
      "416 1990-03-01   66.72                     0.6672\n",
      "417 1990-02-01   66.56                     0.6656\n",
      "418 1990-01-01   66.42                     0.6642\n",
      "\n",
      "[419 rows x 3 columns]\n"
     ]
    }
   ],
   "source": [
    "import pandas as pd\n",
    "\n",
    "#Nous récupérons les données de l'INSEE concernant l'indice des prix à la consommation (IPC) en France entre Janvier 1990 et Novembre 2024.\n",
    "#Ici, nous préparerons les données afin de convertir certains des indicateurs de prix des données DVF en euro constant.\n",
    "#Il est utile de noter que l'IPC est en base 2015 = 100.\n",
    "\n",
    "IPC = pd.read_excel(\"INSEE_inflation.xlsx\", \n",
    "skiprows = 3, \n",
    "usecols = [0, 1]\n",
    ")\n",
    "\n",
    "IPC.columns.values[1] = \"Index\"\n",
    "\n",
    "#Nous mettons la columne contenant les dates au bon format pour sélectionner la période d'intérêt, i.e du S2 2019 au S2 2024.\n",
    "IPC[\"Période\"] = pd.to_datetime(\n",
    "    df[\"Période\"],\n",
    "     format = \"%Y-%m\"\n",
    "     )\n",
    "\n",
    "filtered_df = IPC[\n",
    "    (IPC[\"Période\"] >= \"2019-07-01\") & (IPC[\"Période\"] <= \"2024-06-30\")\n",
    "    ]\n",
    "\n",
    "#On s'assure que nos données soient encodées correctement avant de poursuivre.\n",
    "print(IPC.dtypes)\n",
    "#Tout est OK.\n",
    "\n",
    "#Pour convertir les prix d'euros courants à euros constants de 2015, il suffira de diviser ces premiers par Index/100. \n",
    "#Nous créons une columne séparée pour cela.\n",
    "IPC[\"taux_conversion_euro_2015\"] = IPC[\"Index\"]/100"
   ]
  }
 ],
 "metadata": {
  "kernelspec": {
   "display_name": "base",
   "language": "python",
   "name": "python3"
  },
  "language_info": {
   "codemirror_mode": {
    "name": "ipython",
    "version": 3
   },
   "file_extension": ".py",
   "mimetype": "text/x-python",
   "name": "python",
   "nbconvert_exporter": "python",
   "pygments_lexer": "ipython3",
   "version": "3.12.7"
  }
 },
 "nbformat": 4,
 "nbformat_minor": 2
}
