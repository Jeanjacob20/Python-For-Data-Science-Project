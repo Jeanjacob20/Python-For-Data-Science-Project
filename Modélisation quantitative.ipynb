{
 "cells": [
  {
   "cell_type": "markdown",
   "metadata": {},
   "source": [
    "# Modélisation quantitative\n",
    "\n",
    "**DISCLAIMER** Cette partie n'a pas pu être compléter dû à un manque de temps face à la complexité de joindre les bases de données Géorisque et DVF. Nous la laissons néamoins pour montrer quelle aurait été notre démarche si nous avions pu mener la modélisation jusqu'au bout.\n",
    "\n",
    "Cette section vient compléter l'analyse exploratoire menée plus haut pour essayer d'offrir une modeste quantification de la relation entre risque d'inondations et prix de l'immobilier, sans essayer d'obtenir une interprétation qui soit causale. \n",
    "\n",
    "Pour ce faire, nous nous reposons sur un regroupement de données cross-sectionnelles (*pooled cross-sectional* en anglais) que nous avons pu assembler à partir des bases de données DVF et Géorisque. \n",
    "Ces données comprennent notamment les variables suivantes:\n",
    "- La valeur à laquelle s'est déroulée la transaction immobilière, que nous ajusterons de l'inflation.\n",
    "- Le niveau de risque inhérent à la position géographique du bien, qui est encodé entre trois niveaux de risques: faible, moyen et élevé.\n",
    "- La surface en mètre carrée du bien.\n",
    "\n",
    "Nous estimerons ainsi l'équation économétrique suivante:\n",
    "\n",
    "$ Prix = \\beta_0 + \\beta_1*R_{élevé} + \\beta_2*R_{moyen} + \\beta_3*Surface + \\epsilon $\n",
    "\n",
    "Avec:\n",
    "- $Prix$, la valeur de la transaction immobilière en euro constant de 2015. Nous faisons cet ajustement pour isoler l'effet de l'inflation et donc mieux capturer les interactions liées aux risques d'inondation. De plus, nous avons exclu de la base de données les observations où les valeurs de transactions étaient supérieures au 95ème quantile ou inférieure au 5ème quantile. Ceci permet de se séparer des valeurs aberrantes qui pourraient avoir un effet disproportionné sur nos coefficients de régression.\n",
    "- $R_{élevé}$ et $R_{moyen}$ sont nos variables binaires (*dummies*) liés au niveau de risque du bien immobilier. Le niveau de référence pour de ces *dummies* est le risque de niveau faible.\n",
    "- Et pour finir, $Surface$ correspond à la surface en mètre carré du bien immobilier. \n",
    "\n",
    "Nous présentons ci-dessous les résultats de notre estimation par la méthode des moindres carrés.\n",
    "\n",
    "Sans surprise, nous observons avec satisfaction que ce modèle économétrique permet de capturer les relations clefs. En effet, le signe des coefficients de régression correspond parfaitement à nos attentes. Nous constatons qu'un bien immobilier se trouvant dans une zone à haut risque voit son prix de transaction baisser de [INSERER LE COEFF] en moyenne, *ceteris paribus*. L'effet est plus modeste en taille mais similaire en direction pour les biens situées en zone à risque modéré. De plus, les deux coefficients sont statistiquement significatifs.\n",
    "\n",
    "Cependant, il ne nous est pas étranger que notre modèle souffre, entre autres, du biais de variables omises. En effet, il y a bien d'autres variables pouvant impacter le prix d'un bien immobilier que celles que nous avons inclus: par exemple, la distance à des moyens de transports, la distance au centre-ville le plus proche, et même la distance au littoral le plus proche, en particulier dans le sud de la France. "
   ]
  }
 ],
 "metadata": {
  "language_info": {
   "name": "python"
  }
 },
 "nbformat": 4,
 "nbformat_minor": 2
}
