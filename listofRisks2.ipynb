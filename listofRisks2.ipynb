{
 "cells": [
  {
   "cell_type": "code",
   "execution_count": 12,
   "metadata": {},
   "outputs": [
    {
     "data": {
      "text/plain": [
       "'[{\\'num_risque\\': \\'180\\', \\'libelle_risque_long\\': \"Par une crue à débordement lent de cours d\\'eau\"}]'"
      ]
     },
     "execution_count": 12,
     "metadata": {},
     "output_type": "execute_result"
    }
   ],
   "source": [
    "df['liste_libelle_risque'][2]"
   ]
  },
  {
   "cell_type": "code",
   "execution_count": 13,
   "metadata": {},
   "outputs": [],
   "source": [
    "import ast\n",
    "import pandas as pd \n",
    "\n",
    "df = pd.read_csv('Python-For-Data-Science-Project/flood_risk_data.csv')\n",
    "\n",
    "df_llr2 = pd.DataFrame(df['liste_libelle_risque'].apply(ast.literal_eval))\n",
    "df_exploded = pd.DataFrame(df_llr2['liste_libelle_risque'].explode())\n",
    "df_normalized = pd.json_normalize(df_exploded)\n",
    "df_result = pd.concat([df_normalized, df['libelle_commune'].repeat(df_llr2['liste_libelle_risque'].str.len()).reset_index(drop=True)], axis=1)"
   ]
  },
  {
   "cell_type": "code",
   "execution_count": 15,
   "metadata": {},
   "outputs": [
    {
     "data": {
      "text/html": [
       "<div>\n",
       "<style scoped>\n",
       "    .dataframe tbody tr th:only-of-type {\n",
       "        vertical-align: middle;\n",
       "    }\n",
       "\n",
       "    .dataframe tbody tr th {\n",
       "        vertical-align: top;\n",
       "    }\n",
       "\n",
       "    .dataframe thead th {\n",
       "        text-align: right;\n",
       "    }\n",
       "</style>\n",
       "<table border=\"1\" class=\"dataframe\">\n",
       "  <thead>\n",
       "    <tr style=\"text-align: right;\">\n",
       "      <th></th>\n",
       "      <th>liste_libelle_risque</th>\n",
       "    </tr>\n",
       "  </thead>\n",
       "  <tbody>\n",
       "    <tr>\n",
       "      <th>0</th>\n",
       "      <td>[{'num_risque': '180', 'libelle_risque_long': ...</td>\n",
       "    </tr>\n",
       "    <tr>\n",
       "      <th>1</th>\n",
       "      <td>[{'num_risque': '180', 'libelle_risque_long': ...</td>\n",
       "    </tr>\n",
       "    <tr>\n",
       "      <th>2</th>\n",
       "      <td>[{'num_risque': '180', 'libelle_risque_long': ...</td>\n",
       "    </tr>\n",
       "    <tr>\n",
       "      <th>3</th>\n",
       "      <td>[{'num_risque': '180', 'libelle_risque_long': ...</td>\n",
       "    </tr>\n",
       "    <tr>\n",
       "      <th>4</th>\n",
       "      <td>[{'num_risque': '180', 'libelle_risque_long': ...</td>\n",
       "    </tr>\n",
       "    <tr>\n",
       "      <th>...</th>\n",
       "      <td>...</td>\n",
       "    </tr>\n",
       "    <tr>\n",
       "      <th>2398</th>\n",
       "      <td>[{'num_risque': '131', 'libelle_risque_long': ...</td>\n",
       "    </tr>\n",
       "    <tr>\n",
       "      <th>2399</th>\n",
       "      <td>[{'num_risque': '131', 'libelle_risque_long': ...</td>\n",
       "    </tr>\n",
       "    <tr>\n",
       "      <th>2400</th>\n",
       "      <td>[{'num_risque': '131', 'libelle_risque_long': ...</td>\n",
       "    </tr>\n",
       "    <tr>\n",
       "      <th>2401</th>\n",
       "      <td>[{'num_risque': '131', 'libelle_risque_long': ...</td>\n",
       "    </tr>\n",
       "    <tr>\n",
       "      <th>2402</th>\n",
       "      <td>[{'num_risque': '131', 'libelle_risque_long': ...</td>\n",
       "    </tr>\n",
       "  </tbody>\n",
       "</table>\n",
       "<p>2403 rows × 1 columns</p>\n",
       "</div>"
      ],
      "text/plain": [
       "                                   liste_libelle_risque\n",
       "0     [{'num_risque': '180', 'libelle_risque_long': ...\n",
       "1     [{'num_risque': '180', 'libelle_risque_long': ...\n",
       "2     [{'num_risque': '180', 'libelle_risque_long': ...\n",
       "3     [{'num_risque': '180', 'libelle_risque_long': ...\n",
       "4     [{'num_risque': '180', 'libelle_risque_long': ...\n",
       "...                                                 ...\n",
       "2398  [{'num_risque': '131', 'libelle_risque_long': ...\n",
       "2399  [{'num_risque': '131', 'libelle_risque_long': ...\n",
       "2400  [{'num_risque': '131', 'libelle_risque_long': ...\n",
       "2401  [{'num_risque': '131', 'libelle_risque_long': ...\n",
       "2402  [{'num_risque': '131', 'libelle_risque_long': ...\n",
       "\n",
       "[2403 rows x 1 columns]"
      ]
     },
     "execution_count": 15,
     "metadata": {},
     "output_type": "execute_result"
    }
   ],
   "source": [
    "df_llr2"
   ]
  }
 ],
 "metadata": {
  "kernelspec": {
   "display_name": "base",
   "language": "python",
   "name": "python3"
  },
  "language_info": {
   "codemirror_mode": {
    "name": "ipython",
    "version": 3
   },
   "file_extension": ".py",
   "mimetype": "text/x-python",
   "name": "python",
   "nbconvert_exporter": "python",
   "pygments_lexer": "ipython3",
   "version": "3.12.6"
  }
 },
 "nbformat": 4,
 "nbformat_minor": 2
}
