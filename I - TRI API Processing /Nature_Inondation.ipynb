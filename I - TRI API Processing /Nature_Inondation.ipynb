{
 "cells": [
  {
   "cell_type": "markdown",
   "metadata": {},
   "source": [
    "## I- Récupération des données sur la nature du risque d'inondation \n",
    "\n",
    "A partir de l'API TRI Géorisques, nous proposons de récuperer la nature du risque d'inondation pour chaque commune de France Métropolitaine. \n",
    "\n",
    "La première cellule permet d'interroger l'API. Elle prend une trentaine de minutes à s'exécuter, comme l'API doit être appelée une fois pour le 36 529 communes françaises. \n",
    "\n",
    "Nous avons pris soin de sauvegarder le fichier csv renvoyé par cet appel sous le nom 'flood_risk_data.csv'"
   ]
  },
  {
   "cell_type": "code",
   "execution_count": null,
   "metadata": {},
   "outputs": [],
   "source": [
    "import pandas as pd\n",
    "import requests\n",
    "\n",
    "# URL Communes INSEE \n",
    "url = \"https://www.insee.fr/fr/statistiques/fichier/6800675/v_commune_2023.csv\"\n",
    "\n",
    "# Lecture du csv renseignant sur les Communes \n",
    "df = pd.read_csv(url)\n",
    "print(\"File successfully loaded!\")\n",
    "print(df.head())\n",
    "\n",
    "# Setup de l'URL de l'API Georisque \n",
    "georisques_api_url = \"https://georisques.gouv.fr/api/v1/gaspar/tri\"\n",
    "\n",
    "# Fonction qui appelle l'API et récupère les données d'inondation pour une commune \n",
    "def get_flood_risk_data(commune_code):\n",
    "    request_url = f\"{georisques_api_url}?code_insee={commune_code}&page=1&page_size=10\"\n",
    "    response = requests.get(request_url)\n",
    "    if response.status_code == 200:\n",
    "        json_data = response.json()\n",
    "        if json_data and 'data' in json_data and len(json_data['data']) > 0:\n",
    "            risk_data = pd.DataFrame(json_data['data'])\n",
    "            return risk_data\n",
    "    return None \n",
    "\n",
    "all_risk_data = []\n",
    "\n",
    "#Boucle pour récupérer les données d'inondation de chaque commune\n",
    "for index, row in df.iterrows():\n",
    "    commune_code = row['COM']  #\"COM\" contient les numéros de commune\n",
    "    risk_data = get_flood_risk_data(commune_code)\n",
    "    if risk_data is not None:\n",
    "        all_risk_data.append(risk_data)\n",
    "\n",
    "#Concaténation des dataframes \n",
    "if all_risk_data:\n",
    "    combined_risk_data = pd.concat(all_risk_data, ignore_index=True)\n",
    "    print(\"Combined flood risk data:\")\n",
    "    print(combined_risk_data.head())\n",
    "else:\n",
    "    print(\"No valid flood risk data found for any commune.\")\n",
    "\n",
    "#Sauvegarde du fichier sous format csv \n",
    "combined_risk_data.to_csv(\"flood_risk_data.csv\", index=False)\n",
    "print(\"Flood risk data saved to 'flood_risk_data.csv'\")\n"
   ]
  },
  {
   "cell_type": "markdown",
   "metadata": {},
   "source": [
    "## Commencer à éxécuter les cellules à partir d'ici"
   ]
  },
  {
   "cell_type": "code",
   "execution_count": null,
   "metadata": {},
   "outputs": [],
   "source": [
    "import pandas as pd\n",
    "import requests\n",
    "import ast  # Pour convertir une chaîne représentant une liste en liste\n",
    "\n",
    "# Charger uniquement les colonnes nécessaires\n",
    "cols_to_load = ['liste_libelle_risque', 'libelle_commune']\n",
    "data = pd.read_csv('flood_risk_data.csv')\n",
    "\n",
    "# Convertir la colonne `liste_libelle_risque` en une liste de dictionnaires\n",
    "data['liste_libelle_risque'] = data['liste_libelle_risque'].apply(ast.literal_eval)\n",
    "\n",
    "# Séparer les éléments des dictionnaires en colonnes distinctes\n",
    "expanded_data = data.explode('liste_libelle_risque')  # Sépare chaque élément de la liste dans une nouvelle ligne\n",
    "expanded_data[['num_risque', 'libelle_risque_long']] = expanded_data['liste_libelle_risque'].apply(pd.Series)\n",
    "\n",
    "# Supprimer la colonne d'origine après extraction\n",
    "expanded_data = expanded_data.drop(columns=['liste_libelle_risque'])\n",
    "\n",
    "# Afficher les premières lignes du DataFrame transformé\n",
    "expanded_data.head()"
   ]
  },
  {
   "cell_type": "markdown",
   "metadata": {},
   "source": [
    "Afin de pouvoir réutiliser la dataframe traitée, nous la conservons également sous format csv"
   ]
  },
  {
   "cell_type": "code",
   "execution_count": 15,
   "metadata": {},
   "outputs": [],
   "source": [
    "#conserver en format csv la dataFrame transformée \n",
    "expanded_data.to_csv(\"Type_inondation_data.csv\", index=False)"
   ]
  },
  {
   "cell_type": "markdown",
   "metadata": {},
   "source": [
    "Le long de ce projet, nous utiliserons la bibliothèque cartiflette afin de construire des cartes de France. L'installation du package est nécessaire à son utilisation : "
   ]
  },
  {
   "cell_type": "code",
   "execution_count": null,
   "metadata": {},
   "outputs": [],
   "source": [
    "# Importation du package Cartiflette \n",
    "!pip install py7zr geopandas openpyxl tqdm s3fs\n",
    "!pip install PyYAML xlrd\n",
    "!pip install git+https://github.com/inseefrlab/cartiflette"
   ]
  },
  {
   "cell_type": "code",
   "execution_count": null,
   "metadata": {},
   "outputs": [],
   "source": [
    "import geopandas as gpd\n",
    "import pandas as pd\n",
    "import matplotlib.pyplot as plt\n",
    "from cartiflette import carti_download\n",
    "\n",
    "#Télécharger les données géographiques des communes françaises via Cartiflette\n",
    "france = carti_download(\n",
    "    values=[\"France\"],\n",
    "    crs=4326,\n",
    "    borders=\"COMMUNE\",\n",
    "    vectorfile_format=\"geojson\",\n",
    "    simplification=50,\n",
    "    filter_by=\"FRANCE_ENTIERE\",\n",
    "    source=\"EXPRESS-COG-CARTO-TERRITOIRE\",\n",
    "    year=2022,\n",
    ")\n",
    "print(\"CRS de france:\", france.crs)\n",
    "\n",
    "# Filtrer les communes métropolitaines pour le fond de carte\n",
    "france = france.loc[france[\"INSEE_REG\"] > 10]\n",
    "\n",
    "#Charger les données de risques transformées et associer les risques multiples à chaque commune\n",
    "risk_data_grouped = expanded_data.groupby('code_insee')['libelle_risque_long'].apply(\n",
    "    lambda x: ', '.join(x.unique())\n",
    ").reset_index()\n",
    "\n",
    "#Fusionner les données géographiques avec les risques\n",
    "geo_risks = france.merge(risk_data_grouped, left_on='INSEE_COM', right_on='code_insee', how='left')\n",
    "\n",
    "# 4. Créer la carte\n",
    "fig, ax = plt.subplots(1, 1, figsize=(12, 15))\n",
    "\n",
    "# Afficher les limites des communes\n",
    "france.boundary.plot(ax=ax, linewidth=0.5, color=\"gray\")\n",
    "\n",
    "# Remplir les communes avec des couleurs basées sur les risques\n",
    "geo_risks.plot(\n",
    "    column='libelle_risque_long',  # Colonne contenant les types de risques\n",
    "    ax=ax,\n",
    "    legend=True,\n",
    "    cmap=\"Set3\",  # Palette de couleurs pour différencier les risques\n",
    "    legend_kwds={'bbox_to_anchor': (1, 1), 'loc': 'upper left'}\n",
    ")\n",
    "\n",
    "# Ajouter un titre et améliorer la mise en page\n",
    "plt.title(\"Carte des risques par commune en France\", fontsize=16)\n",
    "plt.tight_layout()\n",
    "\n",
    "# Afficher la carte\n",
    "plt.show()\n"
   ]
  },
  {
   "cell_type": "markdown",
   "metadata": {},
   "source": [
    "Si erreur : AttributeError: module 'urllib3.util' has no attribute 'PROTOCOL_TLS' lors de l'utilisation de cartiflette, \n",
    "\n",
    "%pip install --upgrade urllib3"
   ]
  },
  {
   "cell_type": "markdown",
   "metadata": {},
   "source": [
    "cette première carte nous permet de mettre en évidence les différents types d'évènements pouvant causer une inondation, Parmis eux nous retrouvons : "
   ]
  },
  {
   "cell_type": "code",
   "execution_count": null,
   "metadata": {},
   "outputs": [],
   "source": [
    "print(expanded_data['libelle_risque_long'].unique())"
   ]
  },
  {
   "cell_type": "markdown",
   "metadata": {},
   "source": [
    "Cette première carte nous permet également de pouvoir mettre en évidence les zones d'inondation exacerbées. Le Sud Ouest de la France semble être une zone géographique française sinistrée par les inondations. "
   ]
  }
 ],
 "metadata": {
  "kernelspec": {
   "display_name": "base",
   "language": "python",
   "name": "python3"
  },
  "language_info": {
   "codemirror_mode": {
    "name": "ipython",
    "version": 3
   },
   "file_extension": ".py",
   "mimetype": "text/x-python",
   "name": "python",
   "nbconvert_exporter": "python",
   "pygments_lexer": "ipython3",
   "version": "3.12.7"
  }
 },
 "nbformat": 4,
 "nbformat_minor": 2
}
